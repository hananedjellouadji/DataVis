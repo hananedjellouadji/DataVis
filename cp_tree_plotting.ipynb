{
  "nbformat": 4,
  "nbformat_minor": 0,
  "metadata": {
    "colab": {
      "name": "cp_tree_plotting.ipynb",
      "provenance": [],
      "collapsed_sections": [],
      "authorship_tag": "ABX9TyMLsSADgvTu3Ds10c917ptD",
      "include_colab_link": true
    },
    "kernelspec": {
      "name": "python3",
      "display_name": "Python 3"
    },
    "language_info": {
      "name": "python"
    }
  },
  "cells": [
    {
      "cell_type": "markdown",
      "metadata": {
        "id": "view-in-github",
        "colab_type": "text"
      },
      "source": [
        "<a href=\"https://colab.research.google.com/github/hananedjellouadji/GMC_AI/blob/main/cp_tree_plotting.ipynb\" target=\"_parent\"><img src=\"https://colab.research.google.com/assets/colab-badge.svg\" alt=\"Open In Colab\"/></a>"
      ]
    },
    {
      "cell_type": "code",
      "metadata": {
        "id": "dCH0XO-PObtz"
      },
      "source": [
        "import pandas as pd\n",
        "import numpy as np\n",
        "import matplotlib.pyplot as plt\n",
        "from sklearn.model_selection import train_test_split\n",
        "from sklearn import tree\n",
        "from sklearn.tree import DecisionTreeClassifier\n",
        "from sklearn.metrics import accuracy_score\n",
        "from sklearn.ensemble import RandomForestClassifier\n",
        "from sklearn import metrics"
      ],
      "execution_count": 1,
      "outputs": []
    },
    {
      "cell_type": "code",
      "metadata": {
        "id": "cokor1FIOgXE"
      },
      "source": [
        "df=pd.read_csv('titanic-passengers.csv', sep=\";\")\n",
        "df"
      ],
      "execution_count": null,
      "outputs": []
    },
    {
      "cell_type": "code",
      "metadata": {
        "id": "jvkiQKkiOjqV"
      },
      "source": [
        "def preprocess_data(new_data):\n",
        "    new_data['Age'].fillna(new_data['Age'].mean(),inplace=True)\n",
        "    new_data[\"Sex\"]=new_data[\"Sex\"].map({'male':1,'female':0})\n",
        "    new_data['Cabin']=new_data['Cabin'].fillna('G6')\n",
        "    new_data[\"Survived\"]=new_data[\"Survived\"].map({'Yes':1,'No':0})\n",
        "    return new_data\n",
        "data=preprocess_data(df)\n",
        "data"
      ],
      "execution_count": null,
      "outputs": []
    },
    {
      "cell_type": "code",
      "metadata": {
        "id": "0tsAvUgcOnsz",
        "colab": {
          "base_uri": "https://localhost:8080/"
        },
        "outputId": "a23bd1f1-e554-4657-cc92-c4ba3ff0549e"
      },
      "source": [
        "x=df.drop(['Survived','Name','Cabin','Ticket','Embarked'],axis=1).values\n",
        "y=df['Survived'].values\n",
        "x_train,x_test,y_train,y_test=train_test_split(x,y,test_size=0.2,random_state=10)\n",
        "dtree=tree.DecisionTreeClassifier()\n",
        "dtree.fit(x_train,y_train)\n",
        "y_pred=dtree.predict(x_test)\n",
        "print('Score:{}'.format(accuracy_score(y_test,y_pred)))"
      ],
      "execution_count": 5,
      "outputs": [
        {
          "output_type": "stream",
          "text": [
            "Score:0.770949720670391\n"
          ],
          "name": "stdout"
        }
      ]
    },
    {
      "cell_type": "code",
      "metadata": {
        "id": "_-YbcXa9lSqS"
      },
      "source": [
        "fig = plt.figure(figsize=(20,15))\n",
        "_ = tree.plot_tree(dtree.fit(x_train,y_train),filled=True)"
      ],
      "execution_count": null,
      "outputs": []
    },
    {
      "cell_type": "code",
      "metadata": {
        "colab": {
          "base_uri": "https://localhost:8080/"
        },
        "id": "VLPjEEBLYzK8",
        "outputId": "e4c615c1-c8c3-4cf4-d6dd-2f1b226900f8"
      },
      "source": [
        "x=df.drop(['Survived','Name','Cabin','Ticket','Embarked'],axis=1).values\n",
        "y=df['Survived'].values\n",
        "x_train,x_test,y_train,y_test=train_test_split(x,y,test_size=0.2,random_state=10)\n",
        "model=tree.DecisionTreeClassifier(criterion='gini',splitter='random',max_leaf_nodes=10,max_depth=5)\n",
        "model.fit(x_train,y_train)\n",
        "y_pred=model.predict(x_test)\n",
        "print('Score:{}'.format(accuracy_score(y_test,y_pred)))"
      ],
      "execution_count": 7,
      "outputs": [
        {
          "output_type": "stream",
          "text": [
            "Score:0.8156424581005587\n"
          ],
          "name": "stdout"
        }
      ]
    },
    {
      "cell_type": "code",
      "metadata": {
        "id": "4Ja0xnjVl9OC"
      },
      "source": [
        "fig = plt.figure(figsize=(20,15))\n",
        "_ = tree.plot_tree(model.fit(x_train,y_train),filled=True)"
      ],
      "execution_count": null,
      "outputs": []
    },
    {
      "cell_type": "code",
      "metadata": {
        "colab": {
          "base_uri": "https://localhost:8080/"
        },
        "id": "z11dV92xTCYl",
        "outputId": "09a547aa-3efa-4e42-f5f6-06697ae66792"
      },
      "source": [
        "x=df.drop(['Survived','Name','Cabin','Ticket','Embarked'],axis=1).values\n",
        "y=df['Survived'].values\n",
        "x_train,x_test,y_train,y_test=train_test_split(x,y,test_size=0.2)\n",
        "rfc=RandomForestClassifier(n_estimators=10)\n",
        "rfc.fit(x_train,y_train)\n",
        "y_pred=rfc.predict(x_test)\n",
        "print('Accuracy:',metrics.accuracy_score(y_test,y_pred))"
      ],
      "execution_count": null,
      "outputs": [
        {
          "output_type": "stream",
          "text": [
            "Accuracy: 0.8156424581005587\n"
          ],
          "name": "stdout"
        }
      ]
    },
    {
      "cell_type": "code",
      "metadata": {
        "colab": {
          "base_uri": "https://localhost:8080/"
        },
        "id": "a8jvsWN9eGJV",
        "outputId": "265f316d-5d9a-40dd-f682-f8b7a6332edb"
      },
      "source": [
        "x=df.drop(['Survived','Name','Cabin','Ticket','Embarked'],axis=1).values\n",
        "y=df['Survived'].values\n",
        "x_train,x_test,y_train,y_test=train_test_split(x,y,test_size=0.2)\n",
        "rfc=RandomForestClassifier(n_estimators=14)\n",
        "rfc.fit(x_train,y_train)\n",
        "y_pred=rfc.predict(x_test)\n",
        "print('Accuracy:',metrics.accuracy_score(y_test,y_pred))"
      ],
      "execution_count": null,
      "outputs": [
        {
          "output_type": "stream",
          "text": [
            "Accuracy: 0.8547486033519553\n"
          ],
          "name": "stdout"
        }
      ]
    }
  ]
}